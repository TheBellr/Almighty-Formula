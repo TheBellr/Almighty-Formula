{
 "cells": [
  {
   "cell_type": "markdown",
   "id": "67411ac7-737a-4a95-bfeb-e5860128c4a3",
   "metadata": {
    "tags": []
   },
   "source": [
    "# Assignment\n",
    "BY: CHRISTABEL OLADAPO\n",
    "\n",
    "Build a simple calculator for Almighty formula to solve a quadratic equation"
   ]
  },
  {
   "attachments": {
    "325395d5-7323-43b8-8d54-d6f52b3c357d.png": {
     "image/png": "[encoded data removed]"
    }
   },
   "cell_type": "markdown",
   "id": "f7315b98-032b-40c3-b509-635ccac9cdcd",
   "metadata": {
    "tags": []
   },
   "source": [
    "# Solution\n",
    "# Almighty Formula:![image.png](attachment:325395d5-7323-43b8-8d54-d6f52b3c357d.png)"
   ]
  },
  {
   "cell_type": "markdown",
   "id": "ab7dade2-122f-438d-8dea-6078c72f8c34",
   "metadata": {
    "tags": []
   },
   "source": [
    "Quadratic Equation: a * x ** 2 + b * x + c = 0"
   ]
  },
  {
   "cell_type": "code",
   "execution_count": 7,
   "id": "37a184dc-cd31-47c4-af43-31738fe96c50",
   "metadata": {
    "tags": []
   },
   "outputs": [
    {
     "name": "stdin",
     "output_type": "stream",
     "text": [
      "state the first coefficient: 1\n",
      "state the second coefficient: -3\n",
      "state the third coefficient: -4\n"
     ]
    },
    {
     "name": "stdout",
     "output_type": "stream",
     "text": [
      "4.0\n",
      "-1.0\n"
     ]
    }
   ],
   "source": [
    "a = int(input ('state the first coefficient:'))\n",
    "b = int(input ('state the second coefficient:'))\n",
    "c = int(input ('state the third coefficient:'))\n",
    "\n",
    "print( ( -b + ((b**2) - (4 * a * c ))** 0.5) / (2*a))\n",
    "print( ( -b - ((b**2) - (4 * a * c ))** 0.5) / (2*a))"
   ]
  },
  {
   "cell_type": "code",
   "execution_count": null,
   "id": "8449c291-c622-4e6c-ab86-92e3f4857feb",
   "metadata": {},
   "outputs": [],
   "source": []
  }
 ],
 "metadata": {
  "kernelspec": {
   "display_name": "Python 3 (ipykernel)",
   "language": "python",
   "name": "python3"
  },
  "language_info": {
   "codemirror_mode": {
    "name": "ipython",
    "version": 3
   },
   "file_extension": ".py",
   "mimetype": "text/x-python",
   "name": "python",
   "nbconvert_exporter": "python",
   "pygments_lexer": "ipython3",
   "version": "3.11.5"
  }
 },
 "nbformat": 4,
 "nbformat_minor": 5
}
